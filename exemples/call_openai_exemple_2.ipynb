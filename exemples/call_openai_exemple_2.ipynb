{
 "cells": [
  {
   "cell_type": "code",
   "execution_count": 1,
   "metadata": {},
   "outputs": [
    {
     "name": "stdout",
     "output_type": "stream",
     "text": [
      "{\n",
      "  \"choices\": [\n",
      "    {\n",
      "      \"finish_reason\": \"stop\",\n",
      "      \"index\": 0,\n",
      "      \"logprobs\": null,\n",
      "      \"text\": \"\\nWhat new technologies are being developed to enable space exploration?\"\n",
      "    }\n",
      "  ],\n",
      "  \"created\": 1684828922,\n",
      "  \"id\": \"cmpl-7JHFyyZ4AJ98WM4MNZm8zRNGfPrhV\",\n",
      "  \"model\": \"text-davinci-003\",\n",
      "  \"object\": \"text_completion\",\n",
      "  \"usage\": {\n",
      "    \"completion_tokens\": 12,\n",
      "    \"prompt_tokens\": 410,\n",
      "    \"total_tokens\": 422\n",
      "  }\n",
      "}\n",
      "\n",
      " Answer: \n",
      " Welcome to our podcast on space exploration. Today we have with us an expert on the subject. Could you introduce yourself and tell us about your background in space exploration?\n",
      "Thank you for having me on the show. My name is Sarah and I have been involved in the field of space exploration for the past 15 years. I have a background in astrophysics and have worked on various missions and research projects related to the exploration of our solar system and beyond. I have a particular interest in planetary science and the search for extraterrestrial life.\n",
      "That's incredible. So, can you give us an overview of the importance of space exploration?\n",
      "Absolutely. Space exploration plays a crucial role in expanding our knowledge and understanding of the universe. It allows us to study celestial bodies, such as planets, moons, asteroids, and comets, which can provide insights into the origin and evolution of our own planet and the possibility of life elsewhere. Space exploration also drives technological advancements and innovation. Many technologies developed for space missions have practical applications on Earth, ranging from satellite communications and weather forecasting to medical imaging and environmental monitoring.\n",
      "That's fascinating. What are some of the challenges and future prospects in the field of space exploration?\n",
      "Space exploration is not without its challenges. One of the major challenges is the vast distances and harsh conditions of space, which require advanced propulsion systems, life support technologies, and spacecraft durability. Another challenge is the cost involved in developing and launching space missions. However, with advancements in technology and collaboration between nations and private companies, the future prospects for space exploration are promising. We are witnessing increasing interest in manned missions to Mars, continued exploration of the outer planets and their moons, and the search for potentially habitable exoplanets. These endeavors hold the potential to unravel some of the greatest mysteries of the universe and inspire future generations to pursue careers in science and engineering.\n",
      " \n",
      " Question: \n",
      " What new technologies are being developed to enable space exploration?\n"
     ]
    }
   ],
   "source": [
    "# Model / topic\n",
    "# davinci / Space\n",
    "\n",
    "# Import necessary modules\n",
    "\n",
    "\n",
    "import openai\n",
    "import json\n",
    "\n",
    "# Load secret key from the file\n",
    "with open('sk.txt', 'r') as file:\n",
    "    secret_key = file.read()\n",
    "\n",
    "# Load the JSON file\n",
    "with open('transcripts/space_transcript.json') as f:\n",
    "    data = json.load(f)\n",
    "\n",
    "# Format the JSON data as a string\n",
    "podcast_transcript = \"\"\n",
    "for key, value in data.items():\n",
    "    podcast_transcript += value + \"\\n\"\n",
    "\n",
    "# Set the OpenAI secret key\n",
    "openai.api_key = secret_key\n",
    "\n",
    "prompt = \"Generate a followup question for this. \\nThe followup question should make the interviewee about things he hasn't talked about yet while remaining on the subject.\"\n",
    "\n",
    "# Define a function to call the API\n",
    "def get_follow_up_question(podcast_transcript):\n",
    "    response = openai.Completion.create(\n",
    "        engine=\"text-davinci-003\",\n",
    "        prompt=f\"{podcast_transcript}\\n{prompt}\",\n",
    "        temperature=0.5,\n",
    "        max_tokens=60\n",
    "    )\n",
    "    print(response)\n",
    "\n",
    "    generated_text = response.choices[0].text.strip()\n",
    "    return generated_text\n",
    "\n",
    "\n",
    "follow_up_question = get_follow_up_question(podcast_transcript)\n",
    "print(\"\\n Answer: \\n\", podcast_transcript, \"\\n Question: \\n\", follow_up_question)\n"
   ]
  }
 ],
 "metadata": {
  "kernelspec": {
   "display_name": ".venv",
   "language": "python",
   "name": "python3"
  },
  "language_info": {
   "codemirror_mode": {
    "name": "ipython",
    "version": 3
   },
   "file_extension": ".py",
   "mimetype": "text/x-python",
   "name": "python",
   "nbconvert_exporter": "python",
   "pygments_lexer": "ipython3",
   "version": "3.10.11"
  },
  "orig_nbformat": 4
 },
 "nbformat": 4,
 "nbformat_minor": 2
}
