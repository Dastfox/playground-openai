{
 "cells": [
  {
   "cell_type": "code",
   "execution_count": 3,
   "metadata": {},
   "outputs": [
    {
     "name": "stdout",
     "output_type": "stream",
     "text": [
      "{\n",
      "  \"choices\": [\n",
      "    {\n",
      "      \"finish_reason\": \"stop\",\n",
      "      \"index\": 0,\n",
      "      \"logprobs\": null,\n",
      "      \"text\": \"\\n\\nWhat are some of the most promising applications of artificial intelligence?\"\n",
      "    }\n",
      "  ],\n",
      "  \"created\": 1684829130,\n",
      "  \"id\": \"cmpl-7JHJKCQdyUPWQY9p9LhBSoe8mLBdB\",\n",
      "  \"model\": \"text-curie-001\",\n",
      "  \"object\": \"text_completion\",\n",
      "  \"usage\": {\n",
      "    \"completion_tokens\": 14,\n",
      "    \"prompt_tokens\": 372,\n",
      "    \"total_tokens\": 386\n",
      "  }\n",
      "}\n",
      "\n",
      " Answer: \n",
      " Welcome to our podcast on artificial intelligence. Today we have with us an expert on the subject. Could you introduce yourself and tell us about your background in AI?\n",
      "Thank you for having me on the show. My name is Emily and I have been working in the field of artificial intelligence for over a decade. I hold a Ph.D. in Computer Science specializing in AI and have worked on various AI research projects and applications. My expertise lies in machine learning, natural language processing, and computer vision.\n",
      "That's fantastic. So, can you explain to our listeners what artificial intelligence is and its significance?\n",
      "Certainly. Artificial intelligence refers to the development of computer systems that can perform tasks that would typically require human intelligence. This includes things like understanding and generating natural language, recognizing patterns in data, making decisions, and even learning from experience. AI has the potential to revolutionize various industries, including healthcare, finance, transportation, and entertainment. It can automate tedious tasks, provide personalized experiences, and help solve complex problems at scale.\n",
      "That's really fascinating. What are some of the challenges and concerns associated with artificial intelligence?\n",
      "There are several challenges and concerns surrounding artificial intelligence. One of the main concerns is the ethical implications of AI. As AI systems become more powerful, questions arise regarding privacy, data security, and potential biases in decision-making algorithms. There's also the concern of job displacement, as AI automation may replace certain human job roles. Additionally, ensuring AI systems are transparent, explainable, and accountable is crucial to building trust and preventing misuse. It's important to address these challenges through responsible AI development and regulation to maximize the benefits while minimizing the risks.\n",
      " \n",
      " Question: \n",
      " What are some of the most promising applications of artificial intelligence?\n"
     ]
    }
   ],
   "source": [
    "# Model / topic\n",
    "# curie / AI\n",
    "\n",
    "\n",
    "\n",
    "# Import necessary modules\n",
    "\n",
    "import openai\n",
    "import json\n",
    "\n",
    "# Load secret key from the file\n",
    "with open('secret_key.txt', 'r') as file:\n",
    "    secret_key = file.read()\n",
    "\n",
    "# Load the JSON file\n",
    "with open('transcripts/ai_transcript.json') as f:\n",
    "    data = json.load(f)\n",
    "\n",
    "# Format the JSON data as a string\n",
    "podcast_transcript = \"\"\n",
    "for key, value in data.items():\n",
    "    podcast_transcript += value + \"\\n\"\n",
    "\n",
    "# Set the OpenAI secret key\n",
    "openai.api_key = secret_key\n",
    "\n",
    "prompt = \"Generate a followup question for this. \\nThe followup question should make the interviewee about things he hasn't talked about yet while remaining on the subject.\"\n",
    "\n",
    "# Define a function to call the API\n",
    "def get_follow_up_question(podcast_transcript):\n",
    "    response = openai.Completion.create(\n",
    "        engine=\"text-curie-001\",\n",
    "        prompt=f\"{podcast_transcript}\\n{prompt}\",\n",
    "        temperature=0.5,\n",
    "        max_tokens=60\n",
    "    )\n",
    "    print(response)\n",
    "\n",
    "    generated_text = response.choices[0].text.strip()\n",
    "    return generated_text\n",
    "\n",
    "\n",
    "follow_up_question = get_follow_up_question(podcast_transcript)\n",
    "print(\"\\n Answer: \\n\", podcast_transcript, \"\\n Question: \\n\", follow_up_question)\n"
   ]
  }
 ],
 "metadata": {
  "kernelspec": {
   "display_name": ".venv",
   "language": "python",
   "name": "python3"
  },
  "language_info": {
   "codemirror_mode": {
    "name": "ipython",
    "version": 3
   },
   "file_extension": ".py",
   "mimetype": "text/x-python",
   "name": "python",
   "nbconvert_exporter": "python",
   "pygments_lexer": "ipython3",
   "version": "3.10.11"
  },
  "orig_nbformat": 4
 },
 "nbformat": 4,
 "nbformat_minor": 2
}
