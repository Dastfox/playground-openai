{
 "cells": [
  {
   "cell_type": "code",
   "execution_count": 5,
   "metadata": {},
   "outputs": [
    {
     "name": "stdout",
     "output_type": "stream",
     "text": [
      "{\n",
      "  \"choices\": [\n",
      "    {\n",
      "      \"finish_reason\": \"stop\",\n",
      "      \"index\": 0,\n",
      "      \"logprobs\": null,\n",
      "      \"text\": \"\\n\\nWhat other key events in history have had a lasting impact on our world today?\"\n",
      "    }\n",
      "  ],\n",
      "  \"created\": 1684829959,\n",
      "  \"id\": \"cmpl-7JHWhazMqHuRLDJyn14kdC5wyElEM\",\n",
      "  \"model\": \"text-davinci-003\",\n",
      "  \"object\": \"text_completion\",\n",
      "  \"usage\": {\n",
      "    \"completion_tokens\": 18,\n",
      "    \"prompt_tokens\": 353,\n",
      "    \"total_tokens\": 371\n",
      "  }\n",
      "}\n",
      "\n",
      " Answer: \n",
      " Welcome to our podcast on historical topics. Today we have with us an expert on the subject. Could you introduce yourself and tell us about your background in history?\n",
      "Thank you for having me on the show. My name is David, and I have been studying history for many years. I hold a Ph.D. in History and have focused my research on various historical periods and events. I have a deep understanding of different historical contexts and their significance in shaping our world today.\n",
      "That's wonderful. So, can you give our listeners an overview of a significant historical event that has had a lasting impact?\n",
      "Certainly. One such event that has had a lasting impact is World War II. It was a global conflict that occurred from 1939 to 1945, involving many countries and resulting in significant political, social, and economic changes. World War II saw the rise of fascist ideologies, such as Nazism, led by Adolf Hitler in Germany. However, it's important to approach this topic with sensitivity and focus on the historical context rather than glorifying or promoting any extremist ideologies.\n",
      "Absolutely. What are some of the key lessons we can learn from studying historical events like World War II?\n",
      "Studying historical events like World War II provides us with valuable lessons. It reminds us of the consequences of extreme ideologies, the importance of diplomacy and conflict resolution, and the need to protect human rights and promote equality. By understanding the past, we can strive to create a more peaceful and inclusive world for future generations. It's essential to learn from history to avoid repeating the mistakes of the past.\n",
      " \n",
      " Question: \n",
      " What other key events in history have had a lasting impact on our world today?\n"
     ]
    }
   ],
   "source": [
    "# Model / topic\n",
    "# davinci / nazism\n",
    "\n",
    "# Import necessary modules\n",
    "\n",
    "import openai\n",
    "import json\n",
    "\n",
    "# Load secret key from the file\n",
    "with open('secret_key.txt', 'r') as file:\n",
    "    secret_key = file.read()\n",
    "\n",
    "# Load the JSON file\n",
    "with open('transcripts/nazism_transcript.json') as f:\n",
    "    data = json.load(f)\n",
    "\n",
    "# Format the JSON data as a string\n",
    "podcast_transcript = \"\"\n",
    "for key, value in data.items():\n",
    "    podcast_transcript += value + \"\\n\"\n",
    "\n",
    "# Set the OpenAI secret key\n",
    "openai.api_key = secret_key\n",
    "\n",
    "prompt = \"Generate a followup question for this. \\nThe followup question should make the interviewee about things he hasn't talked about yet while remaining on the subject.\"\n",
    "\n",
    "# Define a function to call the API\n",
    "def get_follow_up_question(podcast_transcript):\n",
    "    response = openai.Completion.create(\n",
    "        engine=\"text-davinci-003\",\n",
    "        prompt=f\"{podcast_transcript}\\n{prompt}\",\n",
    "        temperature=0.5,\n",
    "        max_tokens=60\n",
    "    )\n",
    "    print(response)\n",
    "\n",
    "    generated_text = response.choices[0].text.strip()\n",
    "    return generated_text\n",
    "\n",
    "\n",
    "follow_up_question = get_follow_up_question(podcast_transcript)\n",
    "print(\"\\n Answer: \\n\", podcast_transcript, \"\\n Question: \\n\", follow_up_question)\n"
   ]
  }
 ],
 "metadata": {
  "kernelspec": {
   "display_name": ".venv",
   "language": "python",
   "name": "python3"
  },
  "language_info": {
   "codemirror_mode": {
    "name": "ipython",
    "version": 3
   },
   "file_extension": ".py",
   "mimetype": "text/x-python",
   "name": "python",
   "nbconvert_exporter": "python",
   "pygments_lexer": "ipython3",
   "version": "3.10.11"
  },
  "orig_nbformat": 4
 },
 "nbformat": 4,
 "nbformat_minor": 2
}
